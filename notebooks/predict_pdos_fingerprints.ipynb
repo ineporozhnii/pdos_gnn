{
 "cells": [
  {
   "cell_type": "code",
   "execution_count": 1,
   "metadata": {},
   "outputs": [
    {
     "name": "stderr",
     "output_type": "stream",
     "text": [
      "/Users/ineporozhnii/miniconda3/envs/ocp-models/lib/python3.9/site-packages/tqdm/auto.py:21: TqdmWarning: IProgress not found. Please update jupyter and ipywidgets. See https://ipywidgets.readthedocs.io/en/stable/user_install.html\n",
      "  from .autonotebook import tqdm as notebook_tqdm\n"
     ]
    }
   ],
   "source": [
    "import torch \n",
    "import numpy as np\n",
    "import pandas as pd\n",
    "from pdos_gnn.models.crystal_model import ProDosNet\n",
    "from pdos_gnn.utilities.preprocess import CrystalGraphPDOS\n",
    "from tqdm import tqdm"
   ]
  },
  {
   "cell_type": "markdown",
   "metadata": {},
   "source": [
    "## Predict PDOS fingerprints for Materials Space \n",
    "We will use the pretrained ProDosNet model to predict projected Density of States (PDOS) for all materials in the [Materials Project Database](https://next-gen.materialsproject.org/) and use the predicted PDOS as materials fingerprint to create a structured materials space where compounds are grouped by the similarity of their electronic properties. The ProDosNet model outputs electronic PDOS for all orbitals of all atoms in the unit cell of provided material (node level predictions). To avoid different size of the fingerprint for different materials, we will aggregate PDOS across atoms and individual orbitals. The result of this procedure will be a fixed-size PDOS fingerprint that contains s, p, and d orbital electronic densities for entire material (graph level prediction). "
   ]
  },
  {
   "cell_type": "code",
   "execution_count": 2,
   "metadata": {},
   "outputs": [],
   "source": [
    "class Predictor():\n",
    "    def __init__(self, model_path):\n",
    "        self.model_path = model_path\n",
    "        self.model = ProDosNet(orig_atom_fea_len=98, nbr_fea_len=4, n_conv=3, use_cdf=True)\n",
    "\n",
    "        self._load_model_state()\n",
    "\n",
    "    def _load_model_state(self):\n",
    "        pretrained_model = torch.load(self.model_path, map_location=torch.device('cpu'))\n",
    "        self.model.load_state_dict(pretrained_model['state_dict'])\n",
    "    \n",
    "\n",
    "    def get_prediction(self, graph, include_target=False):\n",
    "        self.model.eval()\n",
    "        graph.edge_attr = torch.squeeze(graph.edge_attr, 1)\n",
    "        output_pdos, _, _ = self.model(graph.x, graph.edge_index, graph.edge_attr, graph.batch, graph.atoms_batch)\n",
    "        out_pdos_data = pd.DataFrame(output_pdos.detach().numpy())\n",
    "        elements = np.array(graph.elements)\n",
    "        sites = np.array(graph.sites)\n",
    "        orbital_types = graph.orbital_types\n",
    "        id = np.array([graph.material_id]*len(orbital_types))\n",
    "\n",
    "        orbital_types = np.array(orbital_types)\n",
    "        if include_target:\n",
    "            target_pdos_data = pd.DataFrame(graph.target_pdos.detach().numpy())\n",
    "            output_and_id = pd.concat([pd.DataFrame(id), pd.DataFrame(elements), pd.DataFrame(sites), pd.DataFrame(orbital_types), out_pdos_data, target_pdos_data], axis = 1, ignore_index=True, sort=False)\n",
    "            output_and_id = output_and_id.rename({0: 'id', 1: 'element', 2: 'atom_number', 3: 'orbital_type'}, axis='columns')\n",
    "        else:\n",
    "            output_and_id = pd.concat([pd.DataFrame(id), pd.DataFrame(elements), pd.DataFrame(sites), pd.DataFrame(orbital_types), out_pdos_data], axis = 1, ignore_index=True, sort=False)\n",
    "            output_and_id = output_and_id.rename({0: 'id', 1: 'element', 2: 'atom_number', 3: 'orbital_type'}, axis='columns')\n",
    "        return output_and_id\n",
    "    "
   ]
  },
  {
   "cell_type": "markdown",
   "metadata": {},
   "source": [
    "### Function to combine orbital PDOS into spd PDOS"
   ]
  },
  {
   "cell_type": "code",
   "execution_count": 3,
   "metadata": {},
   "outputs": [],
   "source": [
    "def get_spd_dos(predicted_data):\n",
    "    p_orbitals = [\"px\", \"py\", \"pz\"]\n",
    "    d_orbitals = [\"dxy\", \"dyz\", \"dz2\", \"dxz\", \"dx2\"]\n",
    "    data_s = predicted_data[predicted_data[\"orbital_type\"]==\"s\"]\n",
    "    data_p = predicted_data[predicted_data[\"orbital_type\"].isin(p_orbitals)]\n",
    "    data_d = predicted_data[predicted_data[\"orbital_type\"].isin(d_orbitals)]\n",
    "    data_s_total = data_s.sum(numeric_only=True)#.drop(index=('atom_number'))\n",
    "    data_p_total = data_p.sum(numeric_only=True)#.drop(index=('atom_number'))\n",
    "    data_d_total = data_d.sum(numeric_only=True)#.drop(index=('atom_number'))\n",
    "    prediction_s = np.array(data_s_total)\n",
    "    prediction_p = np.array(data_p_total)\n",
    "    prediction_d = np.array(data_d_total)\n",
    "    prediction_spd = np.concatenate((prediction_s, prediction_p, prediction_d))\n",
    "    return prediction_spd"
   ]
  },
  {
   "cell_type": "markdown",
   "metadata": {},
   "source": [
    "### Get predicted PDOS\n",
    "**Before running make sure to download materials structures (cif files) using `download_data.ipynb`**\n",
    "\n",
    "The predicted spd PDOS will be used to create a structured materials space and visualize it with UMAP it the `materials_space_umap.ipynb` and search for similar compounds to a specific target material in the `search_for_similar_materials.ipynb`.  "
   ]
  },
  {
   "cell_type": "code",
   "execution_count": 10,
   "metadata": {},
   "outputs": [
    {
     "name": "stdout",
     "output_type": "stream",
     "text": [
      "\t------------------------------------------------\n",
      "        |        Data Preprocessing Parameters         |\n",
      "        ------------------------------------------------\n",
      "            - dos_dir:      None\n",
      "            - cif_dir:      ../data/cif_dir\n",
      "            - radius:       8\n",
      "            - max_num_nbr:  12\n",
      "            - sigma:        0.3\n",
      "            - bound_low:    -20.0\n",
      "            - bound_high:   10.0\n",
      "            - grid:         256\n",
      "            - max_element:  83\n",
      "            - n_orbitals:   9\n",
      "            - norm_pdos:    False\n",
      "        ------------------------------------------------\n",
      "        \n"
     ]
    },
    {
     "name": "stderr",
     "output_type": "stream",
     "text": [
      "100%|██████████| 3/3 [00:00<00:00, 108.01it/s]\n"
     ]
    }
   ],
   "source": [
    "CIF_DIR = \"../data/cif_dir\"\n",
    "\n",
    "id_list = pd.read_csv(\"../data/materials_prop.csv\")[\"material_id\"].tolist()\n",
    "\n",
    "graph_generator = CrystalGraphPDOS(cif_dir=CIF_DIR, dos_dir=None)\n",
    "predictor = Predictor(model_path=\"../pdos_gnn/pretrained/pretrained_model.pth.tar\")\n",
    "\n",
    "predicted_id_list = []\n",
    "spd_dos_list = []\n",
    "for id in tqdm(id_list):\n",
    "    try: \n",
    "        graph = graph_generator.get_crystal_pdos_graph_pred(CIF_DIR+f\"/{id}.cif\")\n",
    "    except Exception as e:\n",
    "        print(id)\n",
    "        print(e)\n",
    "        continue\n",
    "    if graph is not None:\n",
    "        predicted_data = predictor.get_prediction(graph)\n",
    "        spd_array = get_spd_dos(predicted_data)\n",
    "        spd_array = spd_array/len(predicted_data[\"atom_number\"].unique())\n",
    "\n",
    "        spd_dos_list.append(spd_array)\n",
    "        predicted_id_list.append(id)\n",
    "\n",
    "spd_dos_array = np.array(spd_dos_list)\n",
    "spd_dos_df = pd.DataFrame(spd_dos_array, columns=range(len(spd_dos_array[0])))\n",
    "spd_dos_df.insert(0, \"id\", predicted_id_list)\n",
    "\n",
    "spd_dos_df.to_csv(f'spd_pdos_{len(predicted_id_list)}_materials.csv')\n",
    "    "
   ]
  },
  {
   "cell_type": "code",
   "execution_count": null,
   "metadata": {},
   "outputs": [],
   "source": []
  }
 ],
 "metadata": {
  "kernelspec": {
   "display_name": "ocp-models",
   "language": "python",
   "name": "python3"
  },
  "language_info": {
   "codemirror_mode": {
    "name": "ipython",
    "version": 3
   },
   "file_extension": ".py",
   "mimetype": "text/x-python",
   "name": "python",
   "nbconvert_exporter": "python",
   "pygments_lexer": "ipython3",
   "version": "3.9.18"
  }
 },
 "nbformat": 4,
 "nbformat_minor": 2
}
