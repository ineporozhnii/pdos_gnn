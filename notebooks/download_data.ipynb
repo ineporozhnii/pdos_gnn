{
 "cells": [
  {
   "cell_type": "code",
   "execution_count": 2,
   "metadata": {},
   "outputs": [
    {
     "name": "stderr",
     "output_type": "stream",
     "text": [
      "/Users/ineporozhnii/miniconda3/envs/ocp-models/lib/python3.9/site-packages/tqdm/auto.py:21: TqdmWarning: IProgress not found. Please update jupyter and ipywidgets. See https://ipywidgets.readthedocs.io/en/stable/user_install.html\n",
      "  from .autonotebook import tqdm as notebook_tqdm\n"
     ]
    }
   ],
   "source": [
    "import os\n",
    "import pandas as pd\n",
    "from tqdm import tqdm\n",
    "from pymatgen.core.structure import Structure\n",
    "from mp_api.client import MPRester\n",
    "from emmet.core.summary import HasProps\n",
    "import json\n",
    "import signal"
   ]
  },
  {
   "cell_type": "markdown",
   "metadata": {},
   "source": [
    "## Download data from Materials Project Database\n",
    "The projected Density of States (PDOS) data is publicly available at [Materials Project Database](https://next-gen.materialsproject.org/).\n",
    "We will access the data using [Materials Project API](https://next-gen.materialsproject.org/api). To download the data we need an API key that can found in your Materials Project account. Please, paste your API key below access the data."
   ]
  },
  {
   "cell_type": "code",
   "execution_count": 3,
   "metadata": {},
   "outputs": [],
   "source": [
    "MP_API_KEY = \"your_MP_API_key\"\n",
    "mpr = MPRester(MP_API_KEY)"
   ]
  },
  {
   "cell_type": "markdown",
   "metadata": {},
   "source": [
    "## Provide directories to save structures and PDOS data "
   ]
  },
  {
   "cell_type": "code",
   "execution_count": 4,
   "metadata": {},
   "outputs": [],
   "source": [
    "CIF_DIR = \"../data/cif_dir\"\n",
    "DOS_DIR = \"../data/dos_dir\"\n",
    "\n",
    "if not os.path.exists(CIF_DIR):\n",
    "    os.makedirs(CIF_DIR)\n",
    "\n",
    "if not os.path.exists(DOS_DIR):\n",
    "    os.makedirs(DOS_DIR)"
   ]
  },
  {
   "cell_type": "code",
   "execution_count": 5,
   "metadata": {},
   "outputs": [],
   "source": [
    "# Utility to handle no response from Materials Project\n",
    "class TimeoutException(Exception):\n",
    "    pass\n",
    "\n",
    "def timeout_handler(signum, frame):\n",
    "    raise TimeoutException"
   ]
  },
  {
   "cell_type": "markdown",
   "metadata": {},
   "source": [
    "### Functions to download data"
   ]
  },
  {
   "cell_type": "code",
   "execution_count": 6,
   "metadata": {},
   "outputs": [],
   "source": [
    "def download_dos_data(dos_dir: str, ids: list[str], t_response: int = 60):\n",
    "    success_ids = []\n",
    "    with MPRester(MP_API_KEY) as mpr:\n",
    "        signal.signal(signal.SIGALRM, timeout_handler)\n",
    "        for id in tqdm(ids):\n",
    "            signal.alarm(t_response)\n",
    "            try:\n",
    "                dos = mpr.get_dos_by_material_id(id)\n",
    "            except TimeoutException:\n",
    "                print(f\" Didn't receive response from server in {t_response} s. Skipping {id}\")\n",
    "                continue\n",
    "            if dos is None:\n",
    "                print(f\" Database returned None for {id} DOS. Skipping this material\")\n",
    "                continue\n",
    "\n",
    "            dos_dict = dos.as_dict()\n",
    "            with open(f'{dos_dir}/{id}_dos.json', 'w') as f:\n",
    "                json.dump(dos_dict, f)\n",
    "            success_ids.append(id)\n",
    "        \n",
    "        df = pd.DataFrame({\"id\": success_ids})\n",
    "        df.to_csv(f\"{dos_dir}/mpid_downloaded.csv\", index=False)"
   ]
  },
  {
   "cell_type": "code",
   "execution_count": 11,
   "metadata": {},
   "outputs": [],
   "source": [
    "def download_cif_data(cif_dir: str, ids: list[str]):\n",
    "    success_ids = []\n",
    "    with MPRester(MP_API_KEY) as mpr:\n",
    "        docs = mpr.materials.summary.search(material_ids=ids, fields=[\"material_id\", \"structure\"])\n",
    "    \n",
    "    for doc in docs:\n",
    "        id = doc.material_id\n",
    "        structure = doc.structure\n",
    "        structure.to(filename=f\"{cif_dir}/{id}.cif\")\n",
    "        \n",
    "        df = pd.DataFrame({\"id\": success_ids})\n",
    "        df.to_csv(f\"{cif_dir}/mpid_downloaded.csv\", index=False)"
   ]
  },
  {
   "cell_type": "markdown",
   "metadata": {},
   "source": [
    "## Get all mp-ids that have PDOS data in the Materials Project database"
   ]
  },
  {
   "cell_type": "code",
   "execution_count": 8,
   "metadata": {},
   "outputs": [
    {
     "name": "stderr",
     "output_type": "stream",
     "text": [
      "/var/folders/93/dbk_xc9d3txf98w62lsjg8k80000gn/T/ipykernel_29273/3862456680.py:2: DeprecationWarning: Accessing summary data through MPRester.summary is deprecated. Please use MPRester.materials.summary instead.\n",
      "  docs = mpr.summary.search(has_props=[HasProps.dos],\n",
      "Retrieving SummaryDoc documents: 100%|██████████| 88059/88059 [00:22<00:00, 3859.50it/s]\n"
     ]
    },
    {
     "data": {
      "text/html": [
       "<div>\n",
       "<style scoped>\n",
       "    .dataframe tbody tr th:only-of-type {\n",
       "        vertical-align: middle;\n",
       "    }\n",
       "\n",
       "    .dataframe tbody tr th {\n",
       "        vertical-align: top;\n",
       "    }\n",
       "\n",
       "    .dataframe thead th {\n",
       "        text-align: right;\n",
       "    }\n",
       "</style>\n",
       "<table border=\"1\" class=\"dataframe\">\n",
       "  <thead>\n",
       "    <tr style=\"text-align: right;\">\n",
       "      <th></th>\n",
       "      <th>id</th>\n",
       "    </tr>\n",
       "  </thead>\n",
       "  <tbody>\n",
       "    <tr>\n",
       "      <th>0</th>\n",
       "      <td>mp-28967</td>\n",
       "    </tr>\n",
       "    <tr>\n",
       "      <th>1</th>\n",
       "      <td>mp-1042447</td>\n",
       "    </tr>\n",
       "    <tr>\n",
       "      <th>2</th>\n",
       "      <td>mp-766094</td>\n",
       "    </tr>\n",
       "    <tr>\n",
       "      <th>3</th>\n",
       "      <td>mp-546266</td>\n",
       "    </tr>\n",
       "    <tr>\n",
       "      <th>4</th>\n",
       "      <td>mp-559295</td>\n",
       "    </tr>\n",
       "    <tr>\n",
       "      <th>...</th>\n",
       "      <td>...</td>\n",
       "    </tr>\n",
       "    <tr>\n",
       "      <th>88054</th>\n",
       "      <td>mp-561172</td>\n",
       "    </tr>\n",
       "    <tr>\n",
       "      <th>88055</th>\n",
       "      <td>mp-27417</td>\n",
       "    </tr>\n",
       "    <tr>\n",
       "      <th>88056</th>\n",
       "      <td>mp-984551</td>\n",
       "    </tr>\n",
       "    <tr>\n",
       "      <th>88057</th>\n",
       "      <td>mp-766671</td>\n",
       "    </tr>\n",
       "    <tr>\n",
       "      <th>88058</th>\n",
       "      <td>mp-1029948</td>\n",
       "    </tr>\n",
       "  </tbody>\n",
       "</table>\n",
       "<p>88059 rows × 1 columns</p>\n",
       "</div>"
      ],
      "text/plain": [
       "               id\n",
       "0        mp-28967\n",
       "1      mp-1042447\n",
       "2       mp-766094\n",
       "3       mp-546266\n",
       "4       mp-559295\n",
       "...           ...\n",
       "88054   mp-561172\n",
       "88055    mp-27417\n",
       "88056   mp-984551\n",
       "88057   mp-766671\n",
       "88058  mp-1029948\n",
       "\n",
       "[88059 rows x 1 columns]"
      ]
     },
     "execution_count": 8,
     "metadata": {},
     "output_type": "execute_result"
    }
   ],
   "source": [
    "with MPRester(MP_API_KEY) as mpr:\n",
    "    docs = mpr.summary.search(has_props=[HasProps.dos], \n",
    "                              fields=[\"material_id\"])\n",
    "    \n",
    "ids = []\n",
    "for doc in docs:\n",
    "    ids.append(doc.material_id)\n",
    "\n",
    "all_ids = pd.DataFrame({\"id\": ids})\n",
    "all_ids"
   ]
  },
  {
   "cell_type": "markdown",
   "metadata": {},
   "source": [
    "## Download data PDOS data"
   ]
  },
  {
   "cell_type": "code",
   "execution_count": null,
   "metadata": {},
   "outputs": [],
   "source": [
    "download_dos_data(dos_dir=DOS_DIR, ids=all_ids[\"id\"].tolist())"
   ]
  },
  {
   "cell_type": "markdown",
   "metadata": {},
   "source": [
    "## Download data CIF data"
   ]
  },
  {
   "cell_type": "code",
   "execution_count": 15,
   "metadata": {},
   "outputs": [
    {
     "name": "stderr",
     "output_type": "stream",
     "text": [
      "Retrieving SummaryDoc documents: 100%|██████████| 3/3 [00:00<00:00, 79638.68it/s]\n"
     ]
    }
   ],
   "source": [
    "download_cif_data(cif_dir=CIF_DIR, ids=all_ids[\"id\"].tolist())"
   ]
  }
 ],
 "metadata": {
  "kernelspec": {
   "display_name": ".pdos_similarity_app_env",
   "language": "python",
   "name": "python3"
  },
  "language_info": {
   "codemirror_mode": {
    "name": "ipython",
    "version": 3
   },
   "file_extension": ".py",
   "mimetype": "text/x-python",
   "name": "python",
   "nbconvert_exporter": "python",
   "pygments_lexer": "ipython3",
   "version": "3.9.18"
  },
  "orig_nbformat": 4
 },
 "nbformat": 4,
 "nbformat_minor": 2
}
